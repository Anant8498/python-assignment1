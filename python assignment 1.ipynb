{
 "cells": [
  {
   "cell_type": "markdown",
   "id": "fe53d068",
   "metadata": {},
   "source": [
    "IF ELIF ELSE QUESTIONS\n"
   ]
  },
  {
   "cell_type": "markdown",
   "id": "a5716df0",
   "metadata": {},
   "source": [
    "Question 1: Grade Classifier\n",
    "Write a program that takes a student's numerical grade as input and prints their corresponding letter grade according to the following scale:\n",
    "\n",
    "90 or above: A\n",
    "80-89: B\n",
    "70-79: C\n",
    "60-69: D\n",
    "Below 60: F"
   ]
  },
  {
   "cell_type": "code",
   "execution_count": null,
   "id": "a8ced44a",
   "metadata": {},
   "outputs": [],
   "source": [
    "Grade=int(input(\"Enter your Grade:\"))\n",
    "if Grade>=90:\n",
    "    print(\"A\")\n",
    "elif 80<=Grade<=89:\n",
    "    print(\"B\")\n",
    "elif 70<=Grade<=79:\n",
    "    print(\"C\")\n",
    "elif 60<=Grade<=69:\n",
    "    print(\"D\")\n",
    "elif Grade<60:\n",
    "    print(\"F\")\n",
    "        "
   ]
  },
  {
   "cell_type": "markdown",
   "id": "ece844cf",
   "metadata": {},
   "source": [
    "Question 2: Even or Odd\n",
    "Write a program that takes an integer as input and determines whether it is even or odd."
   ]
  },
  {
   "cell_type": "code",
   "execution_count": null,
   "id": "df5346c4",
   "metadata": {},
   "outputs": [],
   "source": [
    "Number=int(input(\"Enter a Number:\"))\n",
    "if Number%2==0:\n",
    "    print(\"Number is even\")\n",
    "else :\n",
    "    print(\"Number is odd\")"
   ]
  },
  {
   "cell_type": "markdown",
   "id": "2299777b",
   "metadata": {},
   "source": [
    "Question 3: Leap Year Checker\n",
    "Write a program that checks if a given year is a leap year. A leap year is either divisible by 4 but not by 100, or divisible by 400."
   ]
  },
  {
   "cell_type": "code",
   "execution_count": null,
   "id": "cc647086",
   "metadata": {},
   "outputs": [],
   "source": [
    "year=int(input(\"Enter a Year:\"))\n",
    "if year%4==0 and year%100!=0 or year%400==0:\n",
    "    print(\"This is a leap year\")\n",
    "else:\n",
    "    print(\"This is not a leap year\")"
   ]
  },
  {
   "cell_type": "markdown",
   "id": "70bc99b3",
   "metadata": {},
   "source": [
    "Question 4: Positive, Negative, or Zero\n",
    "Write a program that takes a number as input and prints whether it is positive, negative, or zero."
   ]
  },
  {
   "cell_type": "code",
   "execution_count": null,
   "id": "824214ca",
   "metadata": {},
   "outputs": [],
   "source": [
    "number=int(input(\"Enter a Number:\"))\n",
    "if number>0:\n",
    "    print(\"Number is positive\")\n",
    "elif number==0:\n",
    "    print(\"Number is zero\")\n",
    "else :\n",
    "    print(\"Number is negative\")\n",
    "    "
   ]
  },
  {
   "cell_type": "markdown",
   "id": "ae88aa42",
   "metadata": {},
   "source": [
    "Question 5: Triangle Type\n",
    "Write a program that takes the lengths of three sides of a triangle as input and determines whether it's an equilateral, isosceles, or scalene triangle."
   ]
  },
  {
   "cell_type": "code",
   "execution_count": null,
   "id": "c10b5cac",
   "metadata": {},
   "outputs": [],
   "source": [
    "a=int( input(\"Enter first side of triangle ,a: \"))\n",
    "b=int( input(\"Enter second side of triangle ,b: \"))\n",
    "c=int( input(\"Enter third side of triangle ,a: \"))\n",
    "\n",
    "if a==b==c:\n",
    "        print(\"This is an Equilateral Triangle\")\n",
    "elif a==b or b==c or c==a:\n",
    "        print(\"This is an Isoceles Triangle\")\n",
    "else :\n",
    "        print(\"This is a Scalene Triangle \")\n",
    "    \n"
   ]
  },
  {
   "cell_type": "code",
   "execution_count": null,
   "id": "9e3cd6ca",
   "metadata": {},
   "outputs": [],
   "source": []
  },
  {
   "cell_type": "code",
   "execution_count": null,
   "id": "ff5b1ea3",
   "metadata": {},
   "outputs": [],
   "source": []
  },
  {
   "cell_type": "markdown",
   "id": "cf8996eb",
   "metadata": {},
   "source": [
    "FOR LOOP QUESTIONS"
   ]
  },
  {
   "cell_type": "markdown",
   "id": "39053ee5",
   "metadata": {},
   "source": [
    "Question 1: Print Even Numbers\n",
    "Write a program that prints all even numbers between 1 and 20."
   ]
  },
  {
   "cell_type": "code",
   "execution_count": 4,
   "id": "305a6d8e",
   "metadata": {},
   "outputs": [
    {
     "name": "stdout",
     "output_type": "stream",
     "text": [
      "2\n",
      "4\n",
      "6\n",
      "8\n",
      "10\n",
      "12\n",
      "14\n",
      "16\n",
      "18\n"
     ]
    }
   ],
   "source": [
    "for i in range(1,20):\n",
    "    if i%2==0:\n",
    "        print(\"{}\".format(i))"
   ]
  },
  {
   "cell_type": "markdown",
   "id": "bff9ef8d",
   "metadata": {},
   "source": [
    "Question 2: Calculate Factorial\n",
    "Write a program that calculates the factorial of a given positive integer."
   ]
  },
  {
   "cell_type": "code",
   "execution_count": null,
   "id": "d3d9ef77",
   "metadata": {},
   "outputs": [],
   "source": []
  },
  {
   "cell_type": "markdown",
   "id": "010c8235",
   "metadata": {},
   "source": [
    "Question 3: Print Multiplication Table\n",
    "Write a program that takes an integer as input and prints its multiplication table up to 10."
   ]
  },
  {
   "cell_type": "code",
   "execution_count": 6,
   "id": "38784c94",
   "metadata": {},
   "outputs": [
    {
     "name": "stdout",
     "output_type": "stream",
     "text": [
      "Enter your Number:12\n",
      "12x1=12\n",
      "12x2=24\n",
      "12x3=36\n",
      "12x4=48\n",
      "12x5=60\n",
      "12x6=72\n",
      "12x7=84\n",
      "12x8=96\n",
      "12x9=108\n",
      "12x10=120\n"
     ]
    }
   ],
   "source": [
    "n=int(input(\"Enter your Number:\"))\n",
    "for i in range(1,11):\n",
    "    print(\"{}x{}={}\".format(n,i,n*i))"
   ]
  },
  {
   "cell_type": "markdown",
   "id": "c3281699",
   "metadata": {},
   "source": [
    "Question 4: Calculate Sum of Digits\n",
    "Write a program that calculates the sum of the digits of a given number."
   ]
  },
  {
   "cell_type": "code",
   "execution_count": null,
   "id": "2ab960b9",
   "metadata": {},
   "outputs": [],
   "source": []
  },
  {
   "cell_type": "markdown",
   "id": "7fd31b33",
   "metadata": {},
   "source": [
    "Question 5: Calculate Fibonacci Series\n",
    "Write a program that generates the Fibonacci series up to a given number of terms."
   ]
  },
  {
   "cell_type": "code",
   "execution_count": null,
   "id": "b743f8b1",
   "metadata": {},
   "outputs": [],
   "source": []
  },
  {
   "cell_type": "markdown",
   "id": "2a0e5555",
   "metadata": {},
   "source": [
    "Question 6: Hollow Square Pattern\n",
    "Write a program to print a hollow square pattern of asterisks (*) with a side length of 5.\n"
   ]
  },
  {
   "cell_type": "code",
   "execution_count": null,
   "id": "233e7464",
   "metadata": {},
   "outputs": [],
   "source": [
    "*****\n",
    "*   *\n",
    "*   *\n",
    "*   *\n",
    "*****"
   ]
  },
  {
   "cell_type": "code",
   "execution_count": null,
   "id": "5719289c",
   "metadata": {},
   "outputs": [],
   "source": []
  },
  {
   "cell_type": "markdown",
   "id": "eca2023b",
   "metadata": {},
   "source": [
    "Question 7: Right Triangle Number Pattern\n",
    "Write a program to print a right triangle number pattern.\n",
    "\n"
   ]
  },
  {
   "cell_type": "code",
   "execution_count": null,
   "id": "5691872b",
   "metadata": {},
   "outputs": [],
   "source": [
    "1\n",
    "12\n",
    "123\n",
    "1234\n",
    "12345"
   ]
  },
  {
   "cell_type": "code",
   "execution_count": 8,
   "id": "7fdb0b7c",
   "metadata": {},
   "outputs": [
    {
     "name": "stdout",
     "output_type": "stream",
     "text": [
      "1\n",
      "2\n",
      "3\n",
      "4\n",
      "5\n"
     ]
    }
   ],
   "source": [
    "for i in range(1,6):\n",
    "    print(\"{}\".format(i))\n",
    "    "
   ]
  },
  {
   "cell_type": "code",
   "execution_count": null,
   "id": "2469ffcc",
   "metadata": {},
   "outputs": [],
   "source": []
  }
 ],
 "metadata": {
  "kernelspec": {
   "display_name": "Python 3 (ipykernel)",
   "language": "python",
   "name": "python3"
  },
  "language_info": {
   "codemirror_mode": {
    "name": "ipython",
    "version": 3
   },
   "file_extension": ".py",
   "mimetype": "text/x-python",
   "name": "python",
   "nbconvert_exporter": "python",
   "pygments_lexer": "ipython3",
   "version": "3.10.9"
  }
 },
 "nbformat": 4,
 "nbformat_minor": 5
}
